{
 "cells": [
  {
   "cell_type": "code",
   "execution_count": 4,
   "id": "f4e88fe8",
   "metadata": {},
   "outputs": [],
   "source": [
    "import threading\n",
    "import cv2\n",
    "import socket\n",
    "import numpy as np"
   ]
  },
  {
   "cell_type": "code",
   "execution_count": 5,
   "id": "7e6272c5",
   "metadata": {},
   "outputs": [],
   "source": [
    "#Creating a socket\n",
    "s = socket.socket(socket.AF_INET , socket.SOCK_STREAM)"
   ]
  },
  {
   "cell_type": "code",
   "execution_count": 6,
   "id": "18ced79b",
   "metadata": {},
   "outputs": [
    {
     "name": "stdout",
     "output_type": "stream",
     "text": [
      "Enter the IP of server : 192.168.43.44\n",
      "Enter the port of the program : 1234\n"
     ]
    },
    {
     "data": {
      "text/plain": [
       "9"
      ]
     },
     "execution_count": 6,
     "metadata": {},
     "output_type": "execute_result"
    }
   ],
   "source": [
    "#Connecting to  server's port\n",
    "s.bind((\"192.168.43.44\",567))\n",
    "ip = input(\"Enter the IP of server : \")\n",
    "port = input(\"Enter the port of the program : \")\n",
    "s.connect((ip,int(port)))\n",
    "s.send(b\"connected\")"
   ]
  },
  {
   "cell_type": "code",
   "execution_count": 7,
   "id": "92381459",
   "metadata": {},
   "outputs": [],
   "source": [
    "#Function to send the video feed from client\n",
    "def send():\n",
    "    cam = cv2.VideoCapture(0) #Connects the primary webcam of the OS\n",
    "    while True : \n",
    "        status , pic = cam.read()\n",
    "        s.send(pic.tobytes())\n",
    "        if cv2.waitKey(10) == 13 :\n",
    "            break"
   ]
  },
  {
   "cell_type": "code",
   "execution_count": 8,
   "id": "83069690",
   "metadata": {},
   "outputs": [],
   "source": [
    "#Function to recieve the video feed from the server and displaying it\n",
    "def receive():\n",
    "    while True : \n",
    "        data = s.recv(1000000)\n",
    "        cpic = np.frombuffer(data , dtype = np.uint8)\n",
    "        if len(cpic) == 921600 :\n",
    "            cv2.imshow(\"Client side\" , cpic.reshape(480,640,3))\n",
    "        else :\n",
    "            pass\n",
    "        if cv2.waitKey(10) == 13 :\n",
    "            print(\"Connection Ended\")\n",
    "            break\n",
    "    cv2.destroyAllWindows()"
   ]
  },
  {
   "cell_type": "code",
   "execution_count": 9,
   "id": "1267205d",
   "metadata": {},
   "outputs": [],
   "source": [
    "#Creating the threads to send and recieve the video feed\n",
    "t1 = threading.Thread(target = send)\n",
    "t2 = threading.Thread(target = receive)"
   ]
  },
  {
   "cell_type": "code",
   "execution_count": 10,
   "id": "13452424",
   "metadata": {},
   "outputs": [],
   "source": [
    "#Starting the threads\n",
    "t1.start()\n",
    "t2.start()"
   ]
  },
  {
   "cell_type": "code",
   "execution_count": null,
   "id": "06bf80e5",
   "metadata": {},
   "outputs": [],
   "source": []
  },
  {
   "cell_type": "code",
   "execution_count": null,
   "id": "61a4f5d9",
   "metadata": {},
   "outputs": [],
   "source": []
  },
  {
   "cell_type": "code",
   "execution_count": null,
   "id": "9399c687",
   "metadata": {},
   "outputs": [],
   "source": []
  }
 ],
 "metadata": {
  "kernelspec": {
   "display_name": "Python 3",
   "language": "python",
   "name": "python3"
  },
  "language_info": {
   "codemirror_mode": {
    "name": "ipython",
    "version": 3
   },
   "file_extension": ".py",
   "mimetype": "text/x-python",
   "name": "python",
   "nbconvert_exporter": "python",
   "pygments_lexer": "ipython3",
   "version": "3.8.8"
  }
 },
 "nbformat": 4,
 "nbformat_minor": 5
}
