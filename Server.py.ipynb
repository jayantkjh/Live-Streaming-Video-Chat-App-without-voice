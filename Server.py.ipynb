{
 "cells": [
  {
   "cell_type": "code",
   "execution_count": 6,
   "id": "2429894a",
   "metadata": {},
   "outputs": [],
   "source": [
    "\n",
    "import threading\n",
    "import cv2\n",
    "import socket\n",
    "import numpy as np\n"
   ]
  },
  {
   "cell_type": "code",
   "execution_count": null,
   "id": "f893aeac",
   "metadata": {},
   "outputs": [],
   "source": [
    "#Creating a socket and connecting to exposing the port to connect to Client\n",
    "s = socket.socket(socket.AF_INET , socket.SOCK_STREAM)\n",
    "s.bind((\"192.168.43.44\",1234))\n",
    "s.listen()\n",
    "c,addr = s.accept()\n",
    "data = c.recv(1024)\n",
    "print(data)"
   ]
  },
  {
   "cell_type": "code",
   "execution_count": null,
   "id": "e7e23d8b",
   "metadata": {},
   "outputs": [],
   "source": [
    "\n",
    "#Function to send the video feed from server\n",
    "def send():\n",
    "    cam = cv2.VideoCapture(1) #Connects the secondary webcam of the OS\n",
    "    while True : \n",
    "        status , pic = cam.read()\n",
    "        c.send(pic.tobytes())\n",
    "        if cv2.waitKey(10) == 13 :\n",
    "            break"
   ]
  },
  {
   "cell_type": "code",
   "execution_count": null,
   "id": "a4f6e65e",
   "metadata": {},
   "outputs": [],
   "source": [
    "#Function to recieve the video feed from the client and displaying it\n",
    "def receive():\n",
    "    while True : \n",
    "        data = c.recv(1000000)\n",
    "        cpic = np.frombuffer(data , dtype = np.uint8)\n",
    "        if len(cpic) == 921600 :\n",
    "            cv2.imshow(\"Server Side\" , cpic.reshape(480,640,3))\n",
    "        else :\n",
    "            pass\n",
    "        if cv2.waitKey(10) == 13 :\n",
    "            print(\"Connection Ended\")\n",
    "            break\n",
    "    cv2.destroyAllWindows()"
   ]
  },
  {
   "cell_type": "code",
   "execution_count": null,
   "id": "46700ed5",
   "metadata": {},
   "outputs": [],
   "source": [
    "#Creating the threads to send and recieve the video feed\n",
    "t1 = threading.Thread(target = send)\n",
    "t2 = threading.Thread(target = receive)"
   ]
  },
  {
   "cell_type": "code",
   "execution_count": null,
   "id": "9bbfb680",
   "metadata": {},
   "outputs": [],
   "source": [
    "#Starting the threads\n",
    "t2.start()\n",
    "t1.start()"
   ]
  },
  {
   "cell_type": "code",
   "execution_count": null,
   "id": "8bab962a",
   "metadata": {},
   "outputs": [],
   "source": []
  },
  {
   "cell_type": "code",
   "execution_count": null,
   "id": "d152fd96",
   "metadata": {},
   "outputs": [],
   "source": []
  }
 ],
 "metadata": {
  "kernelspec": {
   "display_name": "Python 3",
   "language": "python",
   "name": "python3"
  },
  "language_info": {
   "codemirror_mode": {
    "name": "ipython",
    "version": 3
   },
   "file_extension": ".py",
   "mimetype": "text/x-python",
   "name": "python",
   "nbconvert_exporter": "python",
   "pygments_lexer": "ipython3",
   "version": "3.8.8"
  }
 },
 "nbformat": 4,
 "nbformat_minor": 5
}
